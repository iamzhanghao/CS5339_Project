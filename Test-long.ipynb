{
 "cells": [
  {
   "cell_type": "markdown",
   "metadata": {},
   "source": [
    "# CS5339 Project"
   ]
  },
  {
   "cell_type": "markdown",
   "metadata": {},
   "source": [
    "# Data sorting"
   ]
  },
  {
   "cell_type": "code",
   "execution_count": 1,
   "metadata": {},
   "outputs": [
    {
     "name": "stdout",
     "output_type": "stream",
     "text": [
      "Train Pos\n"
     ]
    },
    {
     "data": {
      "text/plain": [
       "<matplotlib.axes._subplots.AxesSubplot at 0x172373950>"
      ]
     },
     "execution_count": 1,
     "metadata": {},
     "output_type": "execute_result"
    },
    {
     "data": {
      "image/png": "[encoded data removed]",
      "text/plain": [
       "<Figure size 432x288 with 1 Axes>"
      ]
     },
     "metadata": {
      "needs_background": "light"
     },
     "output_type": "display_data"
    },
    {
     "data": {
      "image/png": "[encoded data removed]",
      "text/plain": [
       "<Figure size 432x288 with 1 Axes>"
      ]
     },
     "metadata": {
      "needs_background": "light"
     },
     "output_type": "display_data"
    }
   ],
   "source": [
    "import pandas as pd\n",
    "\n",
    "%matplotlib inline\n",
    "\n",
    "from tempfile import mkstemp\n",
    "from shutil import move, copymode\n",
    "from os import fdopen, remove\n",
    "import re\n",
    "\n",
    "def replace(file_path):\n",
    "    #Create temp file\n",
    "    fh, abs_path = mkstemp()\n",
    "    with fdopen(fh,'w') as new_file:\n",
    "        with open(file_path) as old_file:\n",
    "            for line in old_file:\n",
    "                new_file.write(re.sub(\"  \" , \" \", line))\n",
    "\n",
    "    #Copy the file permissions from the old file to the new file\n",
    "    copymode(file_path, abs_path)\n",
    "    #Remove original file\n",
    "    remove(file_path)\n",
    "    #Move new file\n",
    "    move(abs_path, file_path)\n",
    "\n",
    "# replace('aclImdb/test-neg.txt')\n",
    "# replace('aclImdb/train-pos.txt')\n",
    "# replace('aclImdb/test-pos.txt')\n",
    "# replace('aclImdb/test-neg.txt')\n",
    "# replace('aclImdb/train-unsup.txt')\n",
    "replace('aclImdb/alldata.txt')\n",
    "\n",
    "\n",
    "train_neg = pd.read_csv('aclImdb/train-neg.txt', header = None, delimiter = \"\\n\")\n",
    "train_pos = pd.read_csv('aclImdb/train-pos.txt', header = None, delimiter = \"\\n\")\n",
    "train_unsup = pd.read_csv('aclImdb/train-unsup.txt', header = None, delimiter = \"\\n\")\n",
    "test_pos = pd.read_csv('aclImdb/test-pos.txt', header = None, delimiter = \"\\n\")\n",
    "test_neg = pd.read_csv('aclImdb/test-neg.txt', header = None, delimiter = \"\\n\")\n",
    "all_data = pd.read_csv('aclImdb/alldata.txt', header = None, delimiter = \"\\n\")\n",
    "\n",
    "# print(train_neg)\n",
    "data = [train_neg, train_pos, train_unsup, test_pos, test_neg]\n",
    "\n",
    "# print(\"Train Neg\")\n",
    "# train_neg['length'] = cat[0].str.split().map(len)\n",
    "# train_neg.boxplot(column=['length'])\n",
    "# train_neg.plot.hist(bins=12, alpha=0.5)\n",
    "\n",
    "print(\"Train Pos\")\n",
    "all_data['length'] = all_data[0].str.split().map(len)\n",
    "all_data.boxplot(column=['length'])\n",
    "all_data.plot.hist(bins=12, alpha=0.5)\n",
    "\n",
    "\n",
    "# print(train_neg[0][0])\n",
    "\n",
    "# all_data.head(20)\n",
    "\n",
    "\n",
    "\n",
    "# all_train = pd.concat([train_neg, train_pos, train_unsup], ignore_index=True)\n",
    "\n",
    "# all_train.head(10)\n",
    "\n"
   ]
  },
  {
   "cell_type": "markdown",
   "metadata": {},
   "source": [
    "## Load dataset\n",
    "https://ai.stanford.edu/~amaas/data/sentiment/"
   ]
  },
  {
   "cell_type": "code",
   "execution_count": 2,
   "metadata": {},
   "outputs": [
    {
     "name": "stderr",
     "output_type": "stream",
     "text": [
      "unable to import 'smart_open.gcs', disabling that module\n"
     ]
    },
    {
     "name": "stdout",
     "output_type": "stream",
     "text": [
      "48987 docs: 12241 train-sentiment, 12050 test-sentiment, 24696 unlabeled\n"
     ]
    }
   ],
   "source": [
    "import gensim\n",
    "from collections import namedtuple\n",
    "from gensim.models.doc2vec import TaggedDocument\n",
    "\n",
    "SentimentDocument = namedtuple('IMDB', 'words tags split sentiment')\n",
    "\n",
    "alldocs = []  # will hold all docs in original order\n",
    "# with open('aclImdb/alldata-id.txt') as alldata:\n",
    "#     for line_no, line in enumerate(alldata):\n",
    "#         tokens = gensim.utils.to_unicode(line).split()\n",
    "#         words = tokens[1:]\n",
    "#         tags = [line_no] \n",
    "        \n",
    "#         # 25k train, 25k test, 50k unlabled data\n",
    "#         split = ['train','test','train-unsup','train-unsup'][line_no//25000]  \n",
    "#         # [12.5K pos, 12.5K neg]*2 then 50k unlabled data\n",
    "#         sentiment = [1.0, 0.0, 1.0, 0.0, None, None, None, None][line_no//12500] \n",
    "#         alldocs.append(SentimentDocument(words, tags, split, sentiment))\n",
    "\n",
    "current_line = 0\n",
    "with open('aclImdb/train-neg.txt') as alldata:\n",
    "    for line_no, line in enumerate(alldata):\n",
    "        \n",
    "        tokens = gensim.utils.to_unicode(line).split()\n",
    "        if len(tokens)<=200:\n",
    "            continue\n",
    "        words = tokens[1:]\n",
    "        tags = [current_line]\n",
    "        current_line += 1\n",
    "        split = 'train'\n",
    "        sentiment = 0\n",
    "        alldocs.append(SentimentDocument(words, tags, split, sentiment))\n",
    "        \n",
    "with open('aclImdb/train-pos.txt') as alldata:\n",
    "    for line_no, line in enumerate(alldata):\n",
    "        tokens = gensim.utils.to_unicode(line).split()\n",
    "        if len(tokens)<=200:\n",
    "            continue\n",
    "        words = tokens[1:]\n",
    "        tags = [current_line]\n",
    "        current_line += 1\n",
    "        split = 'train'\n",
    "        sentiment = 1.0\n",
    "        alldocs.append(SentimentDocument(words, tags, split, sentiment))\n",
    "        \n",
    "with open('aclImdb/test-pos.txt') as alldata:\n",
    "    for line_no, line in enumerate(alldata):\n",
    "        tokens = gensim.utils.to_unicode(line).split()\n",
    "        if len(tokens)<=200:\n",
    "            continue\n",
    "        words = tokens[1:]\n",
    "        tags = [current_line]\n",
    "        current_line += 1\n",
    "        split = 'test'\n",
    "        sentiment = 1.0\n",
    "        alldocs.append(SentimentDocument(words, tags, split, sentiment))\n",
    "        \n",
    "with open('aclImdb/test-neg.txt') as alldata:\n",
    "    for line_no, line in enumerate(alldata):\n",
    "        tokens = gensim.utils.to_unicode(line).split()\n",
    "        if len(tokens)<=200:\n",
    "            continue\n",
    "        words = tokens[1:]\n",
    "        tags = [current_line]\n",
    "        current_line += 1\n",
    "        split = 'test'\n",
    "        sentiment = 0\n",
    "        alldocs.append(SentimentDocument(words, tags, split, sentiment))\n",
    "        \n",
    "\n",
    "\n",
    "with open('aclImdb/train-unsup.txt') as alldata:\n",
    "    for line_no, line in enumerate(alldata):\n",
    "        tokens = gensim.utils.to_unicode(line).split()\n",
    "        if len(tokens)<=200:\n",
    "            continue\n",
    "        words = tokens[1:]\n",
    "        tags = [current_line]\n",
    "        current_line += 1\n",
    "        split = 'train-unsup'\n",
    "        sentiment = None\n",
    "        alldocs.append(SentimentDocument(words, tags, split, sentiment))\n",
    "\n",
    "train_docs = [doc for doc in alldocs if doc.split == 'train']\n",
    "test_docs = [doc for doc in alldocs if doc.split == 'test']\n",
    "unlabeled = [doc for doc in alldocs if doc.split == 'train-unsup']\n",
    "doc_list = alldocs[:]  # for reshuffling per epoch\n",
    "\n",
    "print('%d docs: %d train-sentiment, %d test-sentiment, %d unlabeled' % (len(doc_list), len(train_docs), len(test_docs), len(unlabeled)))"
   ]
  },
  {
   "cell_type": "code",
   "execution_count": 3,
   "metadata": {},
   "outputs": [
    {
     "name": "stdout",
     "output_type": "stream",
     "text": [
      "IMDB(words=['only', 'recently', 'found', 'out', 'that', 'madeleine', \"l'engle's\", 'novel', 'had', 'been', 'turned', 'into', 'a', 'tv', 'movie', 'by', 'disney', 'and', 'ordered', 'the', 'dvd', '.', 'the', 'book', 'was', 'a', 'favorite', 'of', 'mine', 'when', 'i', 'was', 'a', 'child', 'and', 'i', 'read', 'it', 'several', 'times', '.', 'despite', 'some', 'of', 'the', 'child', 'actors', 'not', 'resembling', 'the', 'characters', 'as', 'described', 'in', 'the', 'novel', ',', 'the', 'murry', 'family', 'is', 'well', 'cast', ',', 'with', 'a', 'likable', '(', 'if', 'too', 'pretty', ')', 'meg', 'at', 'the', 'center', 'and', 'a', 'charles', 'wallace', 'who', 'is', 'convincing', 'as', 'a', 'child', 'prodigy', 'without', 'becoming', 'irritating', '.', 'the', 'first', 'half', 'hour', 'is', 'promising', 'enough', ',', 'doing', 'a', 'good', 'job', 'in', 'establishing', 'the', 'relationships', 'between', 'the', 'lead', 'characters', 'and', 'at', 'setting', 'the', 'scene', '.', 'unfortunately', 'as', 'soon', 'as', 'the', 'non-human', 'characters', 'appear', 'the', 'adaptation', 'starts', 'to', 'unravel', 'and', 'once', 'the', 'children', 'leave', 'earth', 'the', 'whole', 'thing', 'falls', 'apart', '.', 'alfre', 'woodward', 'is', 'too', 'youthful', 'looking', 'and', 'much', 'too', 'regal', 'as', 'the', 'eccentric', 'mrs', 'whatsit', '(', 'think', 'miriam', 'margolis', 'or', 'joan', 'plowright', 'instead', ')', 'and', 'kate', 'nelligan', 'face', 'is', 'so', 'mask', 'like', 'and', 'inexpressive', ',', 'she', 'must', 'have', 'visited', 'faye', \"dunaway's\", 'plastic', 'surgeon', 'in', 'recent', 'years', '.', 'for', 'some', 'reason', 'they', 'make', 'her', 'mrs', 'which', 'look', 'like', 'glinda', 'from', 'the', 'wizard', 'of', 'oz', 'when', 'she', 'should', 'have', 'resembled', 'a', 'benign', 'wicked', 'witch', 'of', 'the', 'west', '.', 'in', 'the', 'end', 'what', 'lets', 'this', 'down', 'most', 'badly', 'are', 'the', 'terrible', 'special', 'effects', 'and', 'art', 'direction', '.', 'i', 'understand', 'that', 'this', 'is', 'a', 'tv', 'movie', ',', 'but', 'the', 'cgi', 'looked', 'like', 'something', 'that', 'could', 'have', 'been', 'done', '15', 'years', 'earlier', '.', 'mrs', \"whatsits'\", 'centaur', 'incarnation', 'is', 'a', 'disaster', 'as', 'is', 'the', 'chewbacca', 'like', 'suit', 'for', 'aunt', 'beast', ',', 'who', 'in', 'the', 'novel', 'is', 'a', 'velvety', ',', 'elegant', 'creature', 'instead', 'of', 'the', 'ungainly', 'big', 'foot', 'like', 'thing', 'shown', 'here', '.', 'i', 'could', 'go', 'on', 'and', 'on', ',', 'nearly', 'every', 'artistic', 'choice', 'is', 'a', 'disaster', ',', 'presumably', 'because', 'there', \"wasn't\", 'a', 'large', 'enough', 'budget', 'to', 'do', 'this', 'justice', ',', 'but', 'also', 'because', 'the', 'design', 'work', 'lacks', 'imagination', 'and', 'good', 'judgement', '.', 'this', 'really', 'would', 'have', 'needed', 'the', 'sense', 'of', 'wonder', 'spielberg', 'brought', 'to', 'his', 'early', 'films', '.', 'what', 'a', 'shame', 'that', 'with', 'the', 'current', 'popularity', 'of', 'adapting', \"children's\", 'literary', 'fantasy', 'series', 'nobody', 'thought', 'of', 'adapting', 'a', 'wrinkle', 'in', 'time', 'and', \"it's\", 'sequels', 'for', 'the', 'big', 'screen', ',', 'giving', 'it', 'the', 'scope', 'it', 'deserves', '.'], tags=[199], split='train', sentiment=0) \n",
      "\n",
      "IMDB(words=['a', 'very', 'good', 'comedy', 'movie', '.', 'ijust', 'liked', 'it', '.', 'i', \"don't\", 'know', 'why', 'i', 'love', 'this', 'movie', 'i', 'just', 'love', 'it', '.', 'storyline', ':', 'it', 'is', 'a', 'story', 'of', 'two', 'boys', 'amar', '(', 'aamir', 'khan', ')', 'and', 'prem', '(', 'salman', 'khan', ')', 'who', 'want', 'to', 'get', 'rich', 'quickly', 'by', 'taking', 'all', 'the', 'short-cuts', 'in', 'the', 'book', '.', 'amar', 'is', 'the', 'son', 'of', 'an', 'honest', 'barber', ',', 'murli', 'manohar', '(', 'deven', 'verma', ')', 'in', 'mumbai', ',', 'while', 'prem', 'is', 'the', 'son', 'of', 'bankeylal', 'bhopali', '(', 'jagdeep', ')', ',', 'a', 'hardworking', 'tailor', 'in', 'bhopal', '.', 'both', 'amar', 'and', 'prem', 'sell', 'their', \"father's\", 'shop', 'and', 'house', 'respectively', ',', 'and', 'zero', 'in', 'on', 'a', 'hill', 'station', 'where', 'a', 'beautiful', 'wealthy', 'heiress', 'raveena', '(', 'raveena', 'tandon', ')', 'has', 'come', 'from', 'london', 'accompanied', 'by', 'her', 'friend', 'cum', 'secretary', 'karishma', '(', 'karishma', 'kapoor', ')', 'with', 'the', 'intention', 'of', 'getting', 'married', 'to', 'a', 'virtuous', 'indian', '.', 'the', 'lucky', 'man', 'to', 'wed', 'raveena', 'will', 'inherit', 'her', 'father', 'ram', 'gopal', \"bajaj's\", '(', 'paresh', 'rawal', ')', 'entire', 'wealth', '.', 'amar', 'and', 'prem', 'see', 'their', 'get', 'rich', 'quick', 'chance', 'and', 'woo', 'raveena', ',', 'each', 'trying', 'to', 'out', 'do', 'the', 'other', '.', 'enter', 'teja', '(', 'paresh', 'rawal', 'in', 'a', 'double', 'role', ')', 'whose', 'sole', 'ambition', 'in', 'life', 'has', 'been', 'to', 'grab', 'his', 'twin', 'brother', 'ram', 'gopal', \"bajaj's\", 'millions', '.', 'so', 'teja', 'plants', 'bhalla', '.', '(', 'shehzad', ')', 'and', 'robert', '(', 'vijoo', 'khote', ')', 'in', \"raveena's\", 'house', ',', 'to', 'help', 'him', 'in', 'fulfill', 'his', 'ambition', '.', 'as', 'the', 'story', 'progresses', 'it', 'turns', 'out', 'to', 'be', 'a', 'mad', 'chase', 'from', 'ram', 'gopal', \"bajaj's\", 'wealth', ',', 'full', 'of', 'humor', ',', 'romance', 'thrills', 'and', 'chills', '.', 'will', 'raveena', '&', 'karishma', 'see', 'through', 'amar', 'and', \"prem's\", 'mischievous', 'intentions', '?', 'will', 'teja', 'succeed', 'in', 'his', 'motives', '?', 'see', 'it', 'all', 'in', 'super', 'comedy', 'andaz', 'apna', 'apna', '.', 'aamir', ',', 'salman', ',', 'raveena', ',', 'karishma', 'and', 'paresh', 'at', 'there', 'best', '.', 'good', 'music', '.', 'good', 'direction', '.', 'good', 'story', 'and', 'screenplay', '.', 'and', 'very', 'good', 'comedy', '!', '!', '!', '!', '!', '!'], tags=[17000], split='test', sentiment=1.0) \n",
      "\n",
      "IMDB(words=['spoilers*', 'in', 'this', 'would-be', 'satire', ',', 'chaplin', 'set', 'his', 'sights', 'on', 'the', 'evils', 'of', 'german', 'fascism', ',', 'playing', 'the', 'twin', 'roles', 'of', 'tomanian', 'dictator', 'adenoid', 'hynkel', 'and', 'one', 'of', 'his', 'subjects', ',', 'an', 'inadvertent', 'world', 'war', 'i', 'hero', 'and', 'jewish', 'barber', '.', 'through', 'events', 'inspired', 'by', 'both', 'adolf', 'hitler', 'and', 'the', 'marx', 'brothers', ',', 'hynkel', 'negotiates', 'contracts', 'and', 'declares', 'war', 'on', 'neighbouring', 'osterlich', 'whilst', 'finding', 'time', 'for', 'numerous', ',', 'oddly', 'flat', 'set-pieces', '.', 'the', \"dictator's\", 'much-celebrated', 'waltz', 'with', 'an', 'inflatable', 'globe', 'is', 'actually', 'entirely', 'heavyhanded', ',', 'underwhelming', 'and', 'unfunny', '.', 'chaplin', 'should', 'certainly', 'be', 'commended', 'for', 'looking', 'to', 'lampoon', 'hitler', 'and', 'for', 'speaking', 'out', 'strongly', 'on', 'celluloid', '-', 'his', 'much-maligned', 'final', 'speech', 'is', 'actually', 'the', 'bold', ',', 'memorable', 'highlight', 'of', 'the', 'piece', '-', 'but', 'the', 'film', 'simply', \"isn't\", 'sharp', 'or', 'funny', 'enough', 'to', 'merit', 'the', 'praise', 'frequently', 'heaped', 'upon', 'it', ',', 'nor', 'to', 'demand', 'repeated', 'viewings', '.', 'the', 'best', 'gags', 'are', 'away', 'from', \"hynkel's\", 'tiresome', 'posturing', 'and', 'involve', 'the', 'barber', 'attempting', 'to', 'avoid', 'a', 'large', 'spinning', 'bomb', '(', 'a', 'sequence', 'which', 'steals', 'from', 'the', 'gun', 'tussle', 'in', 'the', 'gold', 'rush', ')', 'and', 'later', ',', 'with', 'a', 'pot', 'on', 'his', 'head', ',', 'accidentally', 'walking', 'the', 'plank', 'off', 'the', 'roof', 'of', 'his', 'shop', '.', 'compared', 'to', 'the', \"director's\", 'silent', 'classics', ',', 'the', 'great', 'dictator', 'is', 'slow', ',', 'wildly', 'inconsistent', 'and', 'altogether', 'somewhat', 'unsatisfactory', ',', 'whilst', 'the', 'barren', 'spells', 'between', 'laughs', 'are', 'often', 'long', 'and', 'difficult', 'to', 'endure', '.', 'there', 'is', 'no', 'doubt', 'that', 'chaplin', 'was', 'a', 'genius', ',', 'but', 'even', 'geniuses', 'make', 'disappointing', 'pictures', 'and', 'the', 'great', 'dictator', 'certainly', 'ranks', 'as', 'such', '.'], tags=[20000], split='test', sentiment=0)\n"
     ]
    }
   ],
   "source": [
    "# Check data\n",
    "print(doc_list[199],'\\n')\n",
    "print(doc_list[17000],'\\n')\n",
    "print(doc_list[20000])"
   ]
  },
  {
   "cell_type": "markdown",
   "metadata": {},
   "source": [
    "## Model"
   ]
  },
  {
   "cell_type": "code",
   "execution_count": 4,
   "metadata": {},
   "outputs": [
    {
     "name": "stdout",
     "output_type": "stream",
     "text": [
      "CPU Cores 12\n"
     ]
    },
    {
     "name": "stderr",
     "output_type": "stream",
     "text": [
      "/usr/local/lib/python3.7/site-packages/gensim/models/doc2vec.py:574: UserWarning: The parameter `size` is deprecated, will be removed in 4.0.0, use `vector_size` instead.\n",
      "  warnings.warn(\"The parameter `size` is deprecated, will be removed in 4.0.0, use `vector_size` instead.\")\n"
     ]
    },
    {
     "name": "stdout",
     "output_type": "stream",
     "text": [
      "PV-DM/C Doc2Vec(dm/c,d100,n5,w5,mc2,s0.001,t12)\n",
      "PV-DBOW Doc2Vec(dbow,d100,n5,mc2,s0.001,t12)\n",
      "PV-DM/M Doc2Vec(dm/m,d100,n5,w10,mc2,s0.001,t12)\n"
     ]
    }
   ],
   "source": [
    "from gensim.models import Doc2Vec\n",
    "import gensim.models.doc2vec\n",
    "from collections import OrderedDict\n",
    "import multiprocessing\n",
    "\n",
    "cores = multiprocessing.cpu_count()\n",
    "print('CPU Cores',cores)\n",
    "assert gensim.models.doc2vec.FAST_VERSION > -1, \"this will be painfully slow otherwise\"\n",
    "\n",
    "models = [\n",
    "    # PV-DM w/concatenation  window size = 5  approximates paper's 10-word total window size\n",
    "    Doc2Vec(dm=1, dm_concat=1, size=100, window=5, negative=5, hs=0, min_count=2, workers=cores),\n",
    "    # PV-DBOW \n",
    "    Doc2Vec(dm=0, size=100, negative=5, hs=0, min_count=2, workers=cores),\n",
    "    # PV-DM w/average\n",
    "    Doc2Vec(dm=1, dm_mean=1, size=100, window=10, negative=5, hs=0, min_count=2, workers=cores),\n",
    "]\n",
    "\n",
    "# speed setup by sharing results of 1st model's vocabulary scan\n",
    "models[0].build_vocab(alldocs)  # PV-DM/concat requires one special NULL word so it serves as template\n",
    "print('PV-DM/C', models[0])\n",
    "models[1].reset_from(models[0])\n",
    "print('PV-DBOW', models[1])\n",
    "models[2].reset_from(models[0])\n",
    "print('PV-DM/M', models[2])\n",
    "\n",
    "models_by_name = OrderedDict((str(model), model) for model in models)\n"
   ]
  },
  {
   "cell_type": "markdown",
   "metadata": {},
   "source": [
    "## Prediction"
   ]
  },
  {
   "cell_type": "code",
   "execution_count": 5,
   "metadata": {},
   "outputs": [],
   "source": [
    "from collections import defaultdict\n",
    "best_error = defaultdict(lambda :1.0)  # to selectively-print only best errors achieved\n",
    "\n",
    "import numpy as np\n",
    "import statsmodels.api as sm\n",
    "from random import sample\n",
    "\n",
    "# for timing\n",
    "from contextlib import contextmanager\n",
    "from timeit import default_timer\n",
    "import time \n",
    "\n",
    "@contextmanager\n",
    "def elapsed_timer():\n",
    "    start = default_timer()\n",
    "    elapser = lambda: default_timer() - start\n",
    "    yield lambda: elapser()\n",
    "    end = default_timer()\n",
    "    elapser = lambda: end-start\n",
    "    \n",
    "def logistic_predictor_from_data(train_targets, train_regressors):\n",
    "    logit = sm.Logit(train_targets, train_regressors)\n",
    "    predictor = logit.fit(disp=0)\n",
    "    #print(predictor.summary())\n",
    "    return predictor\n",
    "\n",
    "def error_rate_for_model(test_model, train_set, test_set, infer=False, infer_steps=3, infer_alpha=0.1, infer_subsample=0.1):\n",
    "    \"\"\"Report error rate on test_doc sentiments, using supplied model and train_docs\"\"\"\n",
    "\n",
    "    train_targets, train_regressors = zip(*[(doc.sentiment, test_model.docvecs[doc.tags[0]]) for doc in train_set])\n",
    "    train_regressors = sm.add_constant(train_regressors)\n",
    "    predictor = logistic_predictor_from_data(train_targets, train_regressors)\n",
    "\n",
    "    test_data = test_set\n",
    "    if infer:\n",
    "        if infer_subsample < 1.0:\n",
    "            test_data = sample(test_data, int(infer_subsample * len(test_data)))\n",
    "        test_regressors = [test_model.infer_vector(doc.words, steps=infer_steps, alpha=infer_alpha) for doc in test_data]\n",
    "    else:\n",
    "        test_regressors = [test_model.docvecs[doc.tags[0]] for doc in test_docs]\n",
    "    test_regressors = sm.add_constant(test_regressors)\n",
    "    \n",
    "    # predict & evaluate\n",
    "    test_predictions = predictor.predict(test_regressors)\n",
    "    corrects = sum(np.rint(test_predictions) == [doc.sentiment for doc in test_data])\n",
    "    errors = len(test_predictions) - corrects\n",
    "    error_rate = float(errors) / len(test_predictions)\n",
    "    return (error_rate, errors, len(test_predictions), predictor)"
   ]
  },
  {
   "cell_type": "markdown",
   "metadata": {},
   "source": [
    "## Training word vectors and doc vectors"
   ]
  },
  {
   "cell_type": "code",
   "execution_count": 6,
   "metadata": {},
   "outputs": [
    {
     "name": "stdout",
     "output_type": "stream",
     "text": [
      "START 2020-04-18 19:20:17.263464\n",
      "*0.499004 : 1 passes : Doc2Vec(dm/c,d100,n5,w5,mc2,s0.001,t12) 0.0s 0.2s\n",
      "*0.482988 : 1 passes : Doc2Vec(dm/c,d100,n5,w5,mc2,s0.001,t12)_inferred 0.0s 4.1s\n",
      "*0.499004 : 1 passes : Doc2Vec(dbow,d100,n5,mc2,s0.001,t12) 0.0s 0.2s\n",
      "*0.490456 : 1 passes : Doc2Vec(dbow,d100,n5,mc2,s0.001,t12)_inferred 0.0s 1.4s\n",
      "*0.499004 : 1 passes : Doc2Vec(dm/m,d100,n5,w10,mc2,s0.001,t12) 0.0s 0.2s\n",
      "*0.497925 : 1 passes : Doc2Vec(dm/m,d100,n5,w10,mc2,s0.001,t12)_inferred 0.0s 1.9s\n",
      "completed pass 1 at alpha 0.025000\n",
      "*0.375851 : 2 passes : Doc2Vec(dm/c,d100,n5,w5,mc2,s0.001,t12) 18.0s 0.2s\n",
      "*0.262407 : 2 passes : Doc2Vec(dbow,d100,n5,mc2,s0.001,t12) 9.7s 0.3s\n",
      "*0.269544 : 2 passes : Doc2Vec(dm/m,d100,n5,w10,mc2,s0.001,t12) 12.6s 0.2s\n",
      "completed pass 2 at alpha 0.023800\n",
      "*0.286141 : 3 passes : Doc2Vec(dm/c,d100,n5,w5,mc2,s0.001,t12) 36.8s 0.2s\n",
      "*0.139917 : 3 passes : Doc2Vec(dbow,d100,n5,mc2,s0.001,t12) 18.9s 0.3s\n",
      "*0.196017 : 3 passes : Doc2Vec(dm/m,d100,n5,w10,mc2,s0.001,t12) 26.2s 0.4s\n",
      "completed pass 3 at alpha 0.022600\n",
      "*0.223568 : 4 passes : Doc2Vec(dm/c,d100,n5,w5,mc2,s0.001,t12) 57.2s 0.2s\n",
      "*0.117012 : 4 passes : Doc2Vec(dbow,d100,n5,mc2,s0.001,t12) 24.6s 0.2s\n",
      "*0.170622 : 4 passes : Doc2Vec(dm/m,d100,n5,w10,mc2,s0.001,t12) 39.0s 0.2s\n",
      "completed pass 4 at alpha 0.021400\n",
      "*0.186390 : 5 passes : Doc2Vec(dm/c,d100,n5,w5,mc2,s0.001,t12) 78.1s 0.3s\n",
      "*0.187552 : 5 passes : Doc2Vec(dm/c,d100,n5,w5,mc2,s0.001,t12)_inferred 78.1s 4.4s\n",
      "*0.112448 : 5 passes : Doc2Vec(dbow,d100,n5,mc2,s0.001,t12) 36.4s 0.3s\n",
      "*0.109544 : 5 passes : Doc2Vec(dbow,d100,n5,mc2,s0.001,t12)_inferred 36.4s 2.0s\n",
      "*0.157593 : 5 passes : Doc2Vec(dm/m,d100,n5,w10,mc2,s0.001,t12) 56.7s 0.2s\n",
      "*0.164315 : 5 passes : Doc2Vec(dm/m,d100,n5,w10,mc2,s0.001,t12)_inferred 56.7s 2.1s\n",
      "completed pass 5 at alpha 0.020200\n",
      "*0.173278 : 6 passes : Doc2Vec(dm/c,d100,n5,w5,mc2,s0.001,t12) 91.2s 0.2s\n",
      "*0.112116 : 6 passes : Doc2Vec(dbow,d100,n5,mc2,s0.001,t12) 44.2s 0.3s\n",
      "*0.150871 : 6 passes : Doc2Vec(dm/m,d100,n5,w10,mc2,s0.001,t12) 66.4s 0.5s\n",
      "completed pass 6 at alpha 0.019000\n",
      "*0.164315 : 7 passes : Doc2Vec(dm/c,d100,n5,w5,mc2,s0.001,t12) 108.7s 0.3s\n",
      "*0.109710 : 7 passes : Doc2Vec(dbow,d100,n5,mc2,s0.001,t12) 56.5s 0.2s\n",
      "*0.145145 : 7 passes : Doc2Vec(dm/m,d100,n5,w10,mc2,s0.001,t12) 78.8s 0.2s\n",
      "completed pass 7 at alpha 0.017800\n",
      "*0.163900 : 8 passes : Doc2Vec(dm/c,d100,n5,w5,mc2,s0.001,t12) 119.0s 0.2s\n",
      " 0.112033 : 8 passes : Doc2Vec(dbow,d100,n5,mc2,s0.001,t12) 58.6s 0.2s\n",
      "*0.145145 : 8 passes : Doc2Vec(dm/m,d100,n5,w10,mc2,s0.001,t12) 83.7s 0.2s\n",
      "completed pass 8 at alpha 0.016600\n",
      "*0.159170 : 9 passes : Doc2Vec(dm/c,d100,n5,w5,mc2,s0.001,t12) 130.4s 0.2s\n",
      "*0.109129 : 9 passes : Doc2Vec(dbow,d100,n5,mc2,s0.001,t12) 61.7s 0.2s\n",
      "*0.141494 : 9 passes : Doc2Vec(dm/m,d100,n5,w10,mc2,s0.001,t12) 92.6s 0.2s\n",
      "completed pass 9 at alpha 0.015400\n",
      " 0.160000 : 10 passes : Doc2Vec(dm/c,d100,n5,w5,mc2,s0.001,t12) 142.4s 0.2s\n",
      "*0.174274 : 10 passes : Doc2Vec(dm/c,d100,n5,w5,mc2,s0.001,t12)_inferred 142.4s 3.5s\n",
      " 0.110788 : 10 passes : Doc2Vec(dbow,d100,n5,mc2,s0.001,t12) 70.8s 0.4s\n",
      " 0.110373 : 10 passes : Doc2Vec(dbow,d100,n5,mc2,s0.001,t12)_inferred 70.8s 1.4s\n",
      "*0.139087 : 10 passes : Doc2Vec(dm/m,d100,n5,w10,mc2,s0.001,t12) 105.8s 0.2s\n",
      " 0.171784 : 10 passes : Doc2Vec(dm/m,d100,n5,w10,mc2,s0.001,t12)_inferred 105.8s 1.9s\n",
      "completed pass 10 at alpha 0.014200\n",
      " 0.159253 : 11 passes : Doc2Vec(dm/c,d100,n5,w5,mc2,s0.001,t12) 156.3s 0.2s\n",
      " 0.110788 : 11 passes : Doc2Vec(dbow,d100,n5,mc2,s0.001,t12) 78.8s 0.2s\n",
      "*0.137261 : 11 passes : Doc2Vec(dm/m,d100,n5,w10,mc2,s0.001,t12) 118.1s 0.2s\n",
      "completed pass 11 at alpha 0.013000\n",
      " 0.161079 : 12 passes : Doc2Vec(dm/c,d100,n5,w5,mc2,s0.001,t12) 176.7s 0.2s\n",
      " 0.111286 : 12 passes : Doc2Vec(dbow,d100,n5,mc2,s0.001,t12) 90.7s 0.2s\n",
      "*0.136929 : 12 passes : Doc2Vec(dm/m,d100,n5,w10,mc2,s0.001,t12) 139.1s 0.2s\n",
      "completed pass 12 at alpha 0.011800\n",
      "*0.157095 : 13 passes : Doc2Vec(dm/c,d100,n5,w5,mc2,s0.001,t12) 201.6s 0.3s\n",
      " 0.109959 : 13 passes : Doc2Vec(dbow,d100,n5,mc2,s0.001,t12) 104.6s 0.3s\n",
      "*0.136515 : 13 passes : Doc2Vec(dm/m,d100,n5,w10,mc2,s0.001,t12) 148.9s 0.2s\n",
      "completed pass 13 at alpha 0.010600\n",
      " 0.158091 : 14 passes : Doc2Vec(dm/c,d100,n5,w5,mc2,s0.001,t12) 216.9s 0.4s\n",
      " 0.110290 : 14 passes : Doc2Vec(dbow,d100,n5,mc2,s0.001,t12) 106.6s 0.2s\n",
      "*0.134855 : 14 passes : Doc2Vec(dm/m,d100,n5,w10,mc2,s0.001,t12) 162.8s 0.2s\n",
      "completed pass 14 at alpha 0.009400\n",
      " 0.158672 : 15 passes : Doc2Vec(dm/c,d100,n5,w5,mc2,s0.001,t12) 232.2s 0.2s\n",
      " 0.181743 : 15 passes : Doc2Vec(dm/c,d100,n5,w5,mc2,s0.001,t12)_inferred 232.2s 3.8s\n",
      " 0.110041 : 15 passes : Doc2Vec(dbow,d100,n5,mc2,s0.001,t12) 131.4s 0.2s\n",
      " 0.119502 : 15 passes : Doc2Vec(dbow,d100,n5,mc2,s0.001,t12)_inferred 131.4s 1.7s\n",
      "*0.133195 : 15 passes : Doc2Vec(dm/m,d100,n5,w10,mc2,s0.001,t12) 193.6s 0.2s\n",
      " 0.177593 : 15 passes : Doc2Vec(dm/m,d100,n5,w10,mc2,s0.001,t12)_inferred 193.6s 1.9s\n",
      "completed pass 15 at alpha 0.008200\n",
      "*0.156680 : 16 passes : Doc2Vec(dm/c,d100,n5,w5,mc2,s0.001,t12) 251.8s 0.2s\n",
      " 0.111037 : 16 passes : Doc2Vec(dbow,d100,n5,mc2,s0.001,t12) 121.8s 0.2s\n",
      "*0.132697 : 16 passes : Doc2Vec(dm/m,d100,n5,w10,mc2,s0.001,t12) 183.7s 0.2s\n",
      "completed pass 16 at alpha 0.007000\n",
      " 0.156763 : 17 passes : Doc2Vec(dm/c,d100,n5,w5,mc2,s0.001,t12) 258.5s 0.2s\n",
      " 0.110788 : 17 passes : Doc2Vec(dbow,d100,n5,mc2,s0.001,t12) 149.2s 0.4s\n",
      " 0.132863 : 17 passes : Doc2Vec(dm/m,d100,n5,w10,mc2,s0.001,t12) 192.4s 0.2s\n",
      "completed pass 17 at alpha 0.005800\n",
      " 0.158340 : 18 passes : Doc2Vec(dm/c,d100,n5,w5,mc2,s0.001,t12) 260.9s 0.2s\n",
      " 0.109461 : 18 passes : Doc2Vec(dbow,d100,n5,mc2,s0.001,t12) 135.7s 0.2s\n",
      "*0.132033 : 18 passes : Doc2Vec(dm/m,d100,n5,w10,mc2,s0.001,t12) 210.2s 0.2s\n",
      "completed pass 18 at alpha 0.004600\n",
      "*0.155602 : 19 passes : Doc2Vec(dm/c,d100,n5,w5,mc2,s0.001,t12) 279.0s 0.2s\n",
      " 0.110456 : 19 passes : Doc2Vec(dbow,d100,n5,mc2,s0.001,t12) 140.6s 0.2s\n",
      " 0.132780 : 19 passes : Doc2Vec(dm/m,d100,n5,w10,mc2,s0.001,t12) 209.8s 0.2s\n",
      "completed pass 19 at alpha 0.003400\n",
      " 0.156929 : 20 passes : Doc2Vec(dm/c,d100,n5,w5,mc2,s0.001,t12) 284.8s 0.2s\n",
      "*0.168465 : 20 passes : Doc2Vec(dm/c,d100,n5,w5,mc2,s0.001,t12)_inferred 284.8s 3.5s\n",
      " 0.109212 : 20 passes : Doc2Vec(dbow,d100,n5,mc2,s0.001,t12) 149.5s 0.2s\n",
      " 0.126141 : 20 passes : Doc2Vec(dbow,d100,n5,mc2,s0.001,t12)_inferred 149.5s 1.3s\n",
      " 0.132282 : 20 passes : Doc2Vec(dm/m,d100,n5,w10,mc2,s0.001,t12) 224.2s 0.2s\n",
      " 0.214108 : 20 passes : Doc2Vec(dm/m,d100,n5,w10,mc2,s0.001,t12)_inferred 224.2s 2.2s\n",
      "completed pass 20 at alpha 0.002200\n",
      "END 2020-04-18 21:18:25.251630\n"
     ]
    }
   ],
   "source": [
    "from random import shuffle\n",
    "import datetime\n",
    "\n",
    "alpha, min_alpha, passes = (0.025, 0.001, 20)\n",
    "alpha_delta = (alpha - min_alpha) / passes\n",
    "\n",
    "print(\"START %s\" % datetime.datetime.now())\n",
    "\n",
    "for epoch in range(passes):\n",
    "    shuffle(doc_list)  # shuffling gets best results\n",
    "    \n",
    "    for name, train_model in models_by_name.items():\n",
    "        # train\n",
    "        duration = 'na'\n",
    "        train_model.alpha, train_model.min_alpha = alpha, alpha\n",
    "        with elapsed_timer() as elapsed:\n",
    "            train_model.train(doc_list,total_examples=100000, epochs=epoch)\n",
    "            duration = '%.1f' % elapsed()\n",
    "            \n",
    "        # evaluate\n",
    "        eval_duration = ''\n",
    "        with elapsed_timer() as eval_elapsed:\n",
    "            err, err_count, test_count, predictor = error_rate_for_model(train_model, train_docs, test_docs)\n",
    "        eval_duration = '%.1f' % eval_elapsed()\n",
    "        best_indicator = ' '\n",
    "        if err <= best_error[name]:\n",
    "            best_error[name] = err\n",
    "            best_indicator = '*' \n",
    "        print(\"%s%f : %i passes : %s %ss %ss\" % (best_indicator, err, epoch + 1, name, duration, eval_duration))\n",
    "\n",
    "        if ((epoch + 1) % 5) == 0 or epoch == 0:\n",
    "            eval_duration = ''\n",
    "            with elapsed_timer() as eval_elapsed:\n",
    "                infer_err, err_count, test_count, predictor = error_rate_for_model(train_model, train_docs, test_docs, infer=True)\n",
    "            eval_duration = '%.1f' % eval_elapsed()\n",
    "            best_indicator = ' '\n",
    "            if infer_err < best_error[name + '_inferred']:\n",
    "                best_error[name + '_inferred'] = infer_err\n",
    "                best_indicator = '*'\n",
    "            print(\"%s%f : %i passes : %s %ss %ss\" % (best_indicator, infer_err, epoch + 1, name + '_inferred', duration, eval_duration))\n",
    "\n",
    "    print('completed pass %i at alpha %f' % (epoch + 1, alpha))\n",
    "    alpha -= alpha_delta\n",
    "    \n",
    "print(\"END %s\" % str(datetime.datetime.now()))"
   ]
  },
  {
   "cell_type": "markdown",
   "metadata": {},
   "source": [
    "## Accuracy"
   ]
  },
  {
   "cell_type": "code",
   "execution_count": 7,
   "metadata": {},
   "outputs": [
    {
     "name": "stdout",
     "output_type": "stream",
     "text": [
      "0.109129 Doc2Vec(dbow,d100,n5,mc2,s0.001,t12)\n",
      "0.109544 Doc2Vec(dbow,d100,n5,mc2,s0.001,t12)_inferred\n",
      "0.132033 Doc2Vec(dm/m,d100,n5,w10,mc2,s0.001,t12)\n",
      "0.155602 Doc2Vec(dm/c,d100,n5,w5,mc2,s0.001,t12)\n",
      "0.164315 Doc2Vec(dm/m,d100,n5,w10,mc2,s0.001,t12)_inferred\n",
      "0.168465 Doc2Vec(dm/c,d100,n5,w5,mc2,s0.001,t12)_inferred\n"
     ]
    }
   ],
   "source": [
    "# print best error rates achieved\n",
    "for rate, name in sorted((rate, name) for name, rate in best_error.items()):\n",
    "    print(\"%f %s\" % (rate, name))"
   ]
  },
  {
   "cell_type": "code",
   "execution_count": 8,
   "metadata": {},
   "outputs": [
    {
     "name": "stdout",
     "output_type": "stream",
     "text": [
      "0.2091286307053942\n",
      "<statsmodels.discrete.discrete_model.BinaryResultsWrapper object at 0x123e37ed0>\n"
     ]
    }
   ],
   "source": [
    "infer_err, err_count, test_count, predictor = error_rate_for_model(train_model, train_docs, test_docs, infer=True)\n",
    "print(infer_err)\n",
    "print(predictor)"
   ]
  },
  {
   "cell_type": "code",
   "execution_count": null,
   "metadata": {},
   "outputs": [],
   "source": []
  }
 ],
 "metadata": {
  "kernelspec": {
   "display_name": "Python 3",
   "language": "python",
   "name": "python3"
  },
  "language_info": {
   "codemirror_mode": {
    "name": "ipython",
    "version": 3
   },
   "file_extension": ".py",
   "mimetype": "text/x-python",
   "name": "python",
   "nbconvert_exporter": "python",
   "pygments_lexer": "ipython3",
   "version": "3.7.7"
  }
 },
 "nbformat": 4,
 "nbformat_minor": 4
}
