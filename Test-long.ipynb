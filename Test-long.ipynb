{
 "cells": [
  {
   "cell_type": "markdown",
   "metadata": {},
   "source": [
    "# CS5339 Project"
   ]
  },
  {
   "cell_type": "markdown",
   "metadata": {},
   "source": [
    "# Data sorting"
   ]
  },
  {
   "cell_type": "code",
   "execution_count": 28,
   "metadata": {},
   "outputs": [
    {
     "name": "stdout",
     "output_type": "stream",
     "text": [
      "Train Pos\n"
     ]
    },
    {
     "data": {
      "text/plain": [
       "<matplotlib.axes._subplots.AxesSubplot at 0x121599910>"
      ]
     },
     "execution_count": 28,
     "metadata": {},
     "output_type": "execute_result"
    },
    {
     "data": {
      "image/png": "[encoded data removed]",
      "text/plain": [
       "<Figure size 432x288 with 1 Axes>"
      ]
     },
     "metadata": {
      "needs_background": "light"
     },
     "output_type": "display_data"
    },
    {
     "data": {
      "image/png": "[encoded data removed]",
      "text/plain": [
       "<Figure size 432x288 with 1 Axes>"
      ]
     },
     "metadata": {
      "needs_background": "light"
     },
     "output_type": "display_data"
    }
   ],
   "source": [
    "import pandas as pd\n",
    "\n",
    "%matplotlib inline\n",
    "\n",
    "from tempfile import mkstemp\n",
    "from shutil import move, copymode\n",
    "from os import fdopen, remove\n",
    "import re\n",
    "\n",
    "def replace(file_path):\n",
    "    #Create temp file\n",
    "    fh, abs_path = mkstemp()\n",
    "    with fdopen(fh,'w') as new_file:\n",
    "        with open(file_path) as old_file:\n",
    "            for line in old_file:\n",
    "                new_file.write(re.sub(\"  \" , \" \", line))\n",
    "\n",
    "    #Copy the file permissions from the old file to the new file\n",
    "    copymode(file_path, abs_path)\n",
    "    #Remove original file\n",
    "    remove(file_path)\n",
    "    #Move new file\n",
    "    move(abs_path, file_path)\n",
    "\n",
    "# replace('aclImdb/test-neg.txt')\n",
    "# replace('aclImdb/train-pos.txt')\n",
    "# replace('aclImdb/test-pos.txt')\n",
    "# replace('aclImdb/test-neg.txt')\n",
    "# replace('aclImdb/train-unsup.txt')\n",
    "replace('aclImdb/alldata.txt')\n",
    "\n",
    "\n",
    "train_neg = pd.read_csv('aclImdb/train-neg.txt', header = None, delimiter = \"\\n\")\n",
    "train_pos = pd.read_csv('aclImdb/train-pos.txt', header = None, delimiter = \"\\n\")\n",
    "train_unsup = pd.read_csv('aclImdb/train-unsup.txt', header = None, delimiter = \"\\n\")\n",
    "test_pos = pd.read_csv('aclImdb/test-pos.txt', header = None, delimiter = \"\\n\")\n",
    "test_neg = pd.read_csv('aclImdb/test-neg.txt', header = None, delimiter = \"\\n\")\n",
    "all_data = pd.read_csv('aclImdb/alldata.txt', header = None, delimiter = \"\\n\")\n",
    "\n",
    "# print(train_neg)\n",
    "data = [train_neg, train_pos, train_unsup, test_pos, test_neg]\n",
    "\n",
    "# print(\"Train Neg\")\n",
    "# train_neg['length'] = cat[0].str.split().map(len)\n",
    "# train_neg.boxplot(column=['length'])\n",
    "# train_neg.plot.hist(bins=12, alpha=0.5)\n",
    "\n",
    "print(\"Train Pos\")\n",
    "all_data['length'] = cat[0].str.split().map(len)\n",
    "all_data.boxplot(column=['length'])\n",
    "all_data.plot.hist(bins=12, alpha=0.5)\n",
    "\n",
    "\n",
    "# print(train_neg[0][0])\n",
    "\n",
    "# all_data.head(20)\n",
    "\n",
    "\n",
    "\n",
    "# all_train = pd.concat([train_neg, train_pos, train_unsup], ignore_index=True)\n",
    "\n",
    "# all_train.head(10)\n",
    "\n"
   ]
  },
  {
   "cell_type": "markdown",
   "metadata": {},
   "source": [
    "## Load dataset\n",
    "https://ai.stanford.edu/~amaas/data/sentiment/"
   ]
  },
  {
   "cell_type": "code",
   "execution_count": 35,
   "metadata": {},
   "outputs": [
    {
     "name": "stdout",
     "output_type": "stream",
     "text": [
      "51013 docs: 12759 train-sentiment, 12950 test-sentiment, 25304 unlabeled\n"
     ]
    }
   ],
   "source": [
    "import gensim\n",
    "from collections import namedtuple\n",
    "from gensim.models.doc2vec import TaggedDocument\n",
    "\n",
    "SentimentDocument = namedtuple('IMDB', 'words tags split sentiment')\n",
    "\n",
    "alldocs = []  # will hold all docs in original order\n",
    "# with open('aclImdb/alldata-id.txt') as alldata:\n",
    "#     for line_no, line in enumerate(alldata):\n",
    "#         tokens = gensim.utils.to_unicode(line).split()\n",
    "#         words = tokens[1:]\n",
    "#         tags = [line_no] \n",
    "        \n",
    "#         # 25k train, 25k test, 50k unlabled data\n",
    "#         split = ['train','test','train-unsup','train-unsup'][line_no//25000]  \n",
    "#         # [12.5K pos, 12.5K neg]*2 then 50k unlabled data\n",
    "#         sentiment = [1.0, 0.0, 1.0, 0.0, None, None, None, None][line_no//12500] \n",
    "#         alldocs.append(SentimentDocument(words, tags, split, sentiment))\n",
    "\n",
    "current_line = 0\n",
    "with open('aclImdb/train-neg.txt') as alldata:\n",
    "    for line_no, line in enumerate(alldata):\n",
    "        \n",
    "        tokens = gensim.utils.to_unicode(line).split()\n",
    "        if len(tokens)>200:\n",
    "            continue\n",
    "        words = tokens[1:]\n",
    "        tags = [current_line]\n",
    "        current_line += 1\n",
    "        split = 'train'\n",
    "        sentiment = 0\n",
    "        alldocs.append(SentimentDocument(words, tags, split, sentiment))\n",
    "        \n",
    "with open('aclImdb/train-pos.txt') as alldata:\n",
    "    for line_no, line in enumerate(alldata):\n",
    "        tokens = gensim.utils.to_unicode(line).split()\n",
    "        if len(tokens)>200:\n",
    "            continue\n",
    "        words = tokens[1:]\n",
    "        tags = [current_line]\n",
    "        current_line += 1\n",
    "        split = 'train'\n",
    "        sentiment = 1.0\n",
    "        alldocs.append(SentimentDocument(words, tags, split, sentiment))\n",
    "        \n",
    "with open('aclImdb/test-pos.txt') as alldata:\n",
    "    for line_no, line in enumerate(alldata):\n",
    "        tokens = gensim.utils.to_unicode(line).split()\n",
    "        if len(tokens)>200:\n",
    "            continue\n",
    "        words = tokens[1:]\n",
    "        tags = [current_line]\n",
    "        current_line += 1\n",
    "        split = 'test'\n",
    "        sentiment = 1.0\n",
    "        alldocs.append(SentimentDocument(words, tags, split, sentiment))\n",
    "        \n",
    "with open('aclImdb/test-neg.txt') as alldata:\n",
    "    for line_no, line in enumerate(alldata):\n",
    "        tokens = gensim.utils.to_unicode(line).split()\n",
    "        if len(tokens)>200:\n",
    "            continue\n",
    "        words = tokens[1:]\n",
    "        tags = [current_line]\n",
    "        current_line += 1\n",
    "        split = 'test'\n",
    "        sentiment = 0\n",
    "        alldocs.append(SentimentDocument(words, tags, split, sentiment))\n",
    "        \n",
    "\n",
    "\n",
    "with open('aclImdb/train-unsup.txt') as alldata:\n",
    "    for line_no, line in enumerate(alldata):\n",
    "        tokens = gensim.utils.to_unicode(line).split()\n",
    "        if len(tokens)>200:\n",
    "            continue\n",
    "        words = tokens[1:]\n",
    "        tags = [current_line]\n",
    "        current_line += 1\n",
    "        split = 'train-unsup'\n",
    "        sentiment = None\n",
    "        alldocs.append(SentimentDocument(words, tags, split, sentiment))\n",
    "\n",
    "train_docs = [doc for doc in alldocs if doc.split == 'train']\n",
    "test_docs = [doc for doc in alldocs if doc.split == 'test']\n",
    "unlabeled = [doc for doc in alldocs if doc.split == 'train-unsup']\n",
    "doc_list = alldocs[:]  # for reshuffling per epoch\n",
    "\n",
    "print('%d docs: %d train-sentiment, %d test-sentiment, %d unlabeled' % (len(doc_list), len(train_docs), len(test_docs), len(unlabeled)))"
   ]
  },
  {
   "cell_type": "code",
   "execution_count": 36,
   "metadata": {},
   "outputs": [
    {
     "name": "stdout",
     "output_type": "stream",
     "text": [
      "IMDB(words=['movie', 'was', 'poorly', 'written', ',', 'poorly', 'acted', 'and', 'very', 'predictable', '.', 'it', 'was', 'very', 'low-budget', 'and', 'i', 'can', 'understand', 'why', 'it', 'was', 'never', 'released', 'and', 'went', 'straight', 'to', 'video', '.', 'it', \"wasn't\", 'even', 'campy', 'fun', ',', 'it', 'was', 'just', 'a', 'complete', 'disaster', 'and', 'i', 'wish', 'i', 'could', 'get', 'the', '1-1/2', 'hours', 'back', '!', 'the', 'colors', 'were', 'horrible', 'along', 'with', 'the', 'plot', 'which', 'has', 'holes', 'so', 'big', 'in', 'it', 'you', 'could', 'drive', 'a', 'mac', 'truck', 'through', 'them', '.', 'the', 'plot', 'itself', 'had', 'the', 'young', 'bride', 'doing', 'things', 'that', 'she', 'absolutely', 'was', 'not', 'physically', 'capable', 'of', 'doing', '--', 'what', 'a', 'stretch', '!', 'skip', 'this', 'movie', 'and', 'watch', 'something', 'better', 'in', 'the', 'horror', 'genre', '.', 'just', 'about', 'any', 'movie', 'comes', 'to', 'mind', 'that', 'is', 'better', 'than', 'this', '.', 'ejames6342'], tags=[199], split='train', sentiment=0) \n",
      "\n",
      "IMDB(words=['watched', 'this', 'on', 'tv', 'in', '1989', 'and', 'regretted', 'not', 'taping', 'it', '.', 'i', 'was', 'very', 'intriguing', 'and', 'suspenseful', '.', 'it', 'is', 'amazing', 'as', 'the', 'events', 'unfold', 'and', 'this', \"man's\", 'past', 'catches', 'up', 'with', 'him', '.', 'the', 'acting', 'is', 'first', 'rate', 'and', 'the', 'story', 'is', 'exactly', 'what', 'the', 'title', 'claims', '.', '.', '.', '\"', 'twist', 'of', 'fate', '\"', '.', '.', '.', 'but', 'no', 'one', 'could', 'run', 'away', 'from', 'a', 'life', 'that', 'this', 'man', 'had', 'at', 'the', 'beginning', 'of', 'the', 'movie', '.'], tags=[17000], split='test', sentiment=1.0) \n",
      "\n",
      "IMDB(words=['show', 'started', 'out', 'okay', ',', 'but', 'then', 'it', 'turned', 'into', 'a', 'nightmare', '.', 'the', 'worst', 'part', 'about', 'it', 'was', 'the', 'contestants', '.', 'most', 'of', 'them', 'were', 'weirdos', '.', 'they', 'did', 'stupid', 'things', 'for', 'a', 'living', 'and', 'they', 'also', 'did', 'strange', 'hobbies', '.', 'in', 'the', 'second', 'season', ',', 'one', 'guy', 'said', 'he', 'that', 'he', 'talked', 'to', 'his', 'pants', '.', 'that', 'is', 'sick', 'and', 'repulsive', '.', 'also', ',', 'no', 'one', 'cared', 'about', 'winning', 'money', '.', 'all', 'they', 'ever', 'wanted', 'to', 'do', 'was', 'make', 'alliances', 'like', 'it', 'was', '\"', 'survivor', '\"', 'or', 'something', '.', 'the', 'men', 'were', 'always', 'afraid', 'that', 'the', 'women', 'were', 'going', 'to', 'team', 'up', 'together', '.', 'the', 'women', 'were', 'the', 'same', 'also', '.', 'i', 'just', \"couldn't\", 'take', 'it', 'anymore', '.', 'i', 'had', 'to', 'stop', 'watching', 'it', '.', 'it', 'was', 'truly', 'one', 'of', 'the', 'worst', 'shows', 'ever', '.'], tags=[20000], split='test', sentiment=0)\n"
     ]
    }
   ],
   "source": [
    "# Check data\n",
    "print(doc_list[199],'\\n')\n",
    "print(doc_list[17000],'\\n')\n",
    "print(doc_list[20000])"
   ]
  },
  {
   "cell_type": "markdown",
   "metadata": {},
   "source": [
    "## Model"
   ]
  },
  {
   "cell_type": "code",
   "execution_count": 37,
   "metadata": {},
   "outputs": [
    {
     "name": "stdout",
     "output_type": "stream",
     "text": [
      "CPU Cores 12\n"
     ]
    },
    {
     "name": "stderr",
     "output_type": "stream",
     "text": [
      "/usr/local/lib/python3.7/site-packages/gensim/models/doc2vec.py:574: UserWarning: The parameter `size` is deprecated, will be removed in 4.0.0, use `vector_size` instead.\n",
      "  warnings.warn(\"The parameter `size` is deprecated, will be removed in 4.0.0, use `vector_size` instead.\")\n"
     ]
    },
    {
     "name": "stdout",
     "output_type": "stream",
     "text": [
      "PV-DM/C Doc2Vec(dm/c,d100,n5,w5,mc2,s0.001,t12)\n",
      "PV-DBOW Doc2Vec(dbow,d100,n5,mc2,s0.001,t12)\n",
      "PV-DM/M Doc2Vec(dm/m,d100,n5,w10,mc2,s0.001,t12)\n"
     ]
    }
   ],
   "source": [
    "from gensim.models import Doc2Vec\n",
    "import gensim.models.doc2vec\n",
    "from collections import OrderedDict\n",
    "import multiprocessing\n",
    "\n",
    "cores = multiprocessing.cpu_count()\n",
    "print('CPU Cores',cores)\n",
    "assert gensim.models.doc2vec.FAST_VERSION > -1, \"this will be painfully slow otherwise\"\n",
    "\n",
    "models = [\n",
    "    # PV-DM w/concatenation  window size = 5  approximates paper's 10-word total window size\n",
    "    Doc2Vec(dm=1, dm_concat=1, size=100, window=5, negative=5, hs=0, min_count=2, workers=cores),\n",
    "    # PV-DBOW \n",
    "    Doc2Vec(dm=0, size=100, negative=5, hs=0, min_count=2, workers=cores),\n",
    "    # PV-DM w/average\n",
    "    Doc2Vec(dm=1, dm_mean=1, size=100, window=10, negative=5, hs=0, min_count=2, workers=cores),\n",
    "]\n",
    "\n",
    "# speed setup by sharing results of 1st model's vocabulary scan\n",
    "models[0].build_vocab(alldocs)  # PV-DM/concat requires one special NULL word so it serves as template\n",
    "print('PV-DM/C', models[0])\n",
    "models[1].reset_from(models[0])\n",
    "print('PV-DBOW', models[1])\n",
    "models[2].reset_from(models[0])\n",
    "print('PV-DM/M', models[2])\n",
    "\n",
    "models_by_name = OrderedDict((str(model), model) for model in models)\n"
   ]
  },
  {
   "cell_type": "markdown",
   "metadata": {},
   "source": [
    "## Prediction"
   ]
  },
  {
   "cell_type": "code",
   "execution_count": 38,
   "metadata": {},
   "outputs": [],
   "source": [
    "from collections import defaultdict\n",
    "best_error = defaultdict(lambda :1.0)  # to selectively-print only best errors achieved\n",
    "\n",
    "import numpy as np\n",
    "import statsmodels.api as sm\n",
    "from random import sample\n",
    "\n",
    "# for timing\n",
    "from contextlib import contextmanager\n",
    "from timeit import default_timer\n",
    "import time \n",
    "\n",
    "@contextmanager\n",
    "def elapsed_timer():\n",
    "    start = default_timer()\n",
    "    elapser = lambda: default_timer() - start\n",
    "    yield lambda: elapser()\n",
    "    end = default_timer()\n",
    "    elapser = lambda: end-start\n",
    "    \n",
    "def logistic_predictor_from_data(train_targets, train_regressors):\n",
    "    logit = sm.Logit(train_targets, train_regressors)\n",
    "    predictor = logit.fit(disp=0)\n",
    "    #print(predictor.summary())\n",
    "    return predictor\n",
    "\n",
    "def error_rate_for_model(test_model, train_set, test_set, infer=False, infer_steps=3, infer_alpha=0.1, infer_subsample=0.1):\n",
    "    \"\"\"Report error rate on test_doc sentiments, using supplied model and train_docs\"\"\"\n",
    "\n",
    "    train_targets, train_regressors = zip(*[(doc.sentiment, test_model.docvecs[doc.tags[0]]) for doc in train_set])\n",
    "    train_regressors = sm.add_constant(train_regressors)\n",
    "    predictor = logistic_predictor_from_data(train_targets, train_regressors)\n",
    "\n",
    "    test_data = test_set\n",
    "    if infer:\n",
    "        if infer_subsample < 1.0:\n",
    "            test_data = sample(test_data, int(infer_subsample * len(test_data)))\n",
    "        test_regressors = [test_model.infer_vector(doc.words, steps=infer_steps, alpha=infer_alpha) for doc in test_data]\n",
    "    else:\n",
    "        test_regressors = [test_model.docvecs[doc.tags[0]] for doc in test_docs]\n",
    "    test_regressors = sm.add_constant(test_regressors)\n",
    "    \n",
    "    # predict & evaluate\n",
    "    test_predictions = predictor.predict(test_regressors)\n",
    "    corrects = sum(np.rint(test_predictions) == [doc.sentiment for doc in test_data])\n",
    "    errors = len(test_predictions) - corrects\n",
    "    error_rate = float(errors) / len(test_predictions)\n",
    "    return (error_rate, errors, len(test_predictions), predictor)"
   ]
  },
  {
   "cell_type": "markdown",
   "metadata": {},
   "source": [
    "## Training word vectors and doc vectors"
   ]
  },
  {
   "cell_type": "code",
   "execution_count": null,
   "metadata": {},
   "outputs": [
    {
     "name": "stdout",
     "output_type": "stream",
     "text": [
      "START 2020-04-18 18:21:08.527044\n",
      "*0.496371 : 1 passes : Doc2Vec(dm/c,d100,n5,w5,mc2,s0.001,t12) 0.0s 0.2s\n",
      "*0.504247 : 1 passes : Doc2Vec(dm/c,d100,n5,w5,mc2,s0.001,t12)_inferred 0.0s 1.7s\n",
      "*0.496371 : 1 passes : Doc2Vec(dbow,d100,n5,mc2,s0.001,t12) 0.0s 0.2s\n",
      "*0.483398 : 1 passes : Doc2Vec(dbow,d100,n5,mc2,s0.001,t12)_inferred 0.0s 0.8s\n",
      "*0.496371 : 1 passes : Doc2Vec(dm/m,d100,n5,w10,mc2,s0.001,t12) 0.0s 0.2s\n",
      "*0.509653 : 1 passes : Doc2Vec(dm/m,d100,n5,w10,mc2,s0.001,t12)_inferred 0.0s 0.8s\n",
      "completed pass 1 at alpha 0.025000\n",
      "*0.460000 : 2 passes : Doc2Vec(dm/c,d100,n5,w5,mc2,s0.001,t12) 6.4s 0.2s\n",
      "*0.359151 : 2 passes : Doc2Vec(dbow,d100,n5,mc2,s0.001,t12) 4.3s 0.2s\n",
      "*0.306409 : 2 passes : Doc2Vec(dm/m,d100,n5,w10,mc2,s0.001,t12) 6.7s 0.2s\n",
      "completed pass 2 at alpha 0.023800\n",
      "*0.397529 : 3 passes : Doc2Vec(dm/c,d100,n5,w5,mc2,s0.001,t12) 12.7s 0.2s\n",
      "*0.179846 : 3 passes : Doc2Vec(dbow,d100,n5,mc2,s0.001,t12) 7.5s 0.2s\n",
      "*0.199228 : 3 passes : Doc2Vec(dm/m,d100,n5,w10,mc2,s0.001,t12) 12.7s 0.2s\n",
      "completed pass 3 at alpha 0.022600\n",
      "*0.374595 : 4 passes : Doc2Vec(dm/c,d100,n5,w5,mc2,s0.001,t12) 19.6s 0.2s\n",
      "*0.130347 : 4 passes : Doc2Vec(dbow,d100,n5,mc2,s0.001,t12) 11.3s 0.2s\n",
      "*0.176216 : 4 passes : Doc2Vec(dm/m,d100,n5,w10,mc2,s0.001,t12) 19.0s 0.3s\n",
      "completed pass 4 at alpha 0.021400\n",
      "*0.311429 : 5 passes : Doc2Vec(dm/c,d100,n5,w5,mc2,s0.001,t12) 24.9s 0.2s\n",
      "*0.341313 : 5 passes : Doc2Vec(dm/c,d100,n5,w5,mc2,s0.001,t12)_inferred 24.9s 1.4s\n",
      "*0.119305 : 5 passes : Doc2Vec(dbow,d100,n5,mc2,s0.001,t12) 15.0s 0.2s\n",
      "*0.120463 : 5 passes : Doc2Vec(dbow,d100,n5,mc2,s0.001,t12)_inferred 15.0s 0.6s\n",
      "*0.164710 : 5 passes : Doc2Vec(dm/m,d100,n5,w10,mc2,s0.001,t12) 25.4s 0.2s\n",
      "*0.192278 : 5 passes : Doc2Vec(dm/m,d100,n5,w10,mc2,s0.001,t12)_inferred 25.4s 0.9s\n",
      "completed pass 5 at alpha 0.020200\n",
      "*0.262317 : 6 passes : Doc2Vec(dm/c,d100,n5,w5,mc2,s0.001,t12) 33.4s 0.2s\n",
      "*0.113900 : 6 passes : Doc2Vec(dbow,d100,n5,mc2,s0.001,t12) 21.7s 0.3s\n",
      "*0.160849 : 6 passes : Doc2Vec(dm/m,d100,n5,w10,mc2,s0.001,t12) 37.0s 0.2s\n",
      "completed pass 6 at alpha 0.019000\n",
      "*0.226718 : 7 passes : Doc2Vec(dm/c,d100,n5,w5,mc2,s0.001,t12) 39.7s 0.2s\n",
      "*0.111892 : 7 passes : Doc2Vec(dbow,d100,n5,mc2,s0.001,t12) 23.6s 0.2s\n",
      "*0.156680 : 7 passes : Doc2Vec(dm/m,d100,n5,w10,mc2,s0.001,t12) 39.4s 0.8s\n",
      "completed pass 7 at alpha 0.017800\n",
      "*0.208263 : 8 passes : Doc2Vec(dm/c,d100,n5,w5,mc2,s0.001,t12) 49.2s 0.3s\n",
      " 0.115135 : 8 passes : Doc2Vec(dbow,d100,n5,mc2,s0.001,t12) 27.2s 0.2s\n"
     ]
    }
   ],
   "source": [
    "from random import shuffle\n",
    "import datetime\n",
    "\n",
    "alpha, min_alpha, passes = (0.025, 0.001, 20)\n",
    "alpha_delta = (alpha - min_alpha) / passes\n",
    "\n",
    "print(\"START %s\" % datetime.datetime.now())\n",
    "\n",
    "for epoch in range(passes):\n",
    "    shuffle(doc_list)  # shuffling gets best results\n",
    "    \n",
    "    for name, train_model in models_by_name.items():\n",
    "        # train\n",
    "        duration = 'na'\n",
    "        train_model.alpha, train_model.min_alpha = alpha, alpha\n",
    "        with elapsed_timer() as elapsed:\n",
    "            train_model.train(doc_list,total_examples=100000, epochs=epoch)\n",
    "            duration = '%.1f' % elapsed()\n",
    "            \n",
    "        # evaluate\n",
    "        eval_duration = ''\n",
    "        with elapsed_timer() as eval_elapsed:\n",
    "            err, err_count, test_count, predictor = error_rate_for_model(train_model, train_docs, test_docs)\n",
    "        eval_duration = '%.1f' % eval_elapsed()\n",
    "        best_indicator = ' '\n",
    "        if err <= best_error[name]:\n",
    "            best_error[name] = err\n",
    "            best_indicator = '*' \n",
    "        print(\"%s%f : %i passes : %s %ss %ss\" % (best_indicator, err, epoch + 1, name, duration, eval_duration))\n",
    "\n",
    "        if ((epoch + 1) % 5) == 0 or epoch == 0:\n",
    "            eval_duration = ''\n",
    "            with elapsed_timer() as eval_elapsed:\n",
    "                infer_err, err_count, test_count, predictor = error_rate_for_model(train_model, train_docs, test_docs, infer=True)\n",
    "            eval_duration = '%.1f' % eval_elapsed()\n",
    "            best_indicator = ' '\n",
    "            if infer_err < best_error[name + '_inferred']:\n",
    "                best_error[name + '_inferred'] = infer_err\n",
    "                best_indicator = '*'\n",
    "            print(\"%s%f : %i passes : %s %ss %ss\" % (best_indicator, infer_err, epoch + 1, name + '_inferred', duration, eval_duration))\n",
    "\n",
    "    print('completed pass %i at alpha %f' % (epoch + 1, alpha))\n",
    "    alpha -= alpha_delta\n",
    "    \n",
    "print(\"END %s\" % str(datetime.datetime.now()))"
   ]
  },
  {
   "cell_type": "markdown",
   "metadata": {},
   "source": [
    "## Accuracy"
   ]
  },
  {
   "cell_type": "code",
   "execution_count": null,
   "metadata": {},
   "outputs": [],
   "source": [
    "# print best error rates achieved\n",
    "for rate, name in sorted((rate, name) for name, rate in best_error.items()):\n",
    "    print(\"%f %s\" % (rate, name))"
   ]
  },
  {
   "cell_type": "code",
   "execution_count": 26,
   "metadata": {},
   "outputs": [
    {
     "name": "stdout",
     "output_type": "stream",
     "text": [
      "0.2336\n",
      "<statsmodels.discrete.discrete_model.BinaryResultsWrapper object at 0x20f644310>\n"
     ]
    }
   ],
   "source": [
    "infer_err, err_count, test_count, predictor = error_rate_for_model(train_model, train_docs, test_docs, infer=True)\n",
    "print(infer_err)\n",
    "print(predictor)"
   ]
  },
  {
   "cell_type": "code",
   "execution_count": null,
   "metadata": {},
   "outputs": [],
   "source": []
  }
 ],
 "metadata": {
  "kernelspec": {
   "display_name": "Python 3",
   "language": "python",
   "name": "python3"
  },
  "language_info": {
   "codemirror_mode": {
    "name": "ipython",
    "version": 3
   },
   "file_extension": ".py",
   "mimetype": "text/x-python",
   "name": "python",
   "nbconvert_exporter": "python",
   "pygments_lexer": "ipython3",
   "version": "3.7.7"
  }
 },
 "nbformat": 4,
 "nbformat_minor": 4
}
